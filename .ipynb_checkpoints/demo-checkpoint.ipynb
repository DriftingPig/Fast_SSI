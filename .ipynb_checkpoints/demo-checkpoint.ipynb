{
 "cells": [
  {
   "cell_type": "code",
   "execution_count": 26,
   "id": "4d0e6d5b-2ce7-4d9c-b7cf-4f5707d8f3ff",
   "metadata": {},
   "outputs": [
    {
     "name": "stdout",
     "output_type": "stream",
     "text": [
      "The autoreload extension is already loaded. To reload it, use:\n",
      "  %reload_ext autoreload\n"
     ]
    }
   ],
   "source": [
    "%load_ext autoreload\n",
    "%autoreload 2\n",
    "%reload_ext autoreload\n",
    "    \n",
    "import sys\n",
    "sys.path.append(\".\")\n",
    "\n",
    "from FastObiwan import * \n",
    "import fitsio"
   ]
  },
  {
   "cell_type": "code",
   "execution_count": 27,
   "id": "2d35300b-d12e-4c58-ae72-4bb3a64ea4c0",
   "metadata": {},
   "outputs": [],
   "source": [
    "brickname = '2383p305'"
   ]
  },
  {
   "cell_type": "code",
   "execution_count": 28,
   "id": "934c7888-4b4e-43b3-9391-1d6c8d37bae2",
   "metadata": {},
   "outputs": [
    {
     "name": "stdout",
     "output_type": "stream",
     "text": [
      "/global/u2/h/huikong/desc_work/sys_histgram_surveypropertymapfree/code\n"
     ]
    }
   ],
   "source": [
    "!pwd"
   ]
  },
  {
   "cell_type": "code",
   "execution_count": 97,
   "id": "efb84d67-a574-4798-a7f8-fbf0cc88afea",
   "metadata": {},
   "outputs": [],
   "source": [
    "Obiwan_LRG = fitsio.read(\"/global/cfs/cdirs/desi/survey/catalogs/image_simulations/LRG/NGC/Obiwan_LRGs.fits\", \\\n",
    "                         columns = [\"brickname\", \"sim_ra\", \"sim_dec\", \"sim_gflux\", \"sim_rflux\", \"sim_zflux\", \\\n",
    "                                    \"sim_w1\", \"mw_transmission_w1\", \"sim_rhalf\", \"sim_e1\", \"sim_e2\",\"sim_sersic_n\",\\\n",
    "                                    'nobs_g', 'nobs_r', 'nobs_z', 'psfdepth_g', 'psfdepth_r', 'psfdepth_z','ra','dec','flux_z','flux_r'])"
   ]
  },
  {
   "cell_type": "code",
   "execution_count": 98,
   "id": "c2308159-370b-4f6f-8fe9-c19bba926f01",
   "metadata": {},
   "outputs": [
    {
     "data": {
      "text/plain": [
       "(1048.3757, 534.66943, 36.04674)"
      ]
     },
     "execution_count": 98,
     "metadata": {},
     "output_type": "execute_result"
    }
   ],
   "source": [
    "Obiwan_LRG = Obiwan_LRG[Obiwan_LRG['brickname'] == brickname]\n",
    "Obiwan_LRG[0]['psfdepth_g'], Obiwan_LRG[0]['psfdepth_r'], Obiwan_LRG[0]['psfdepth_z']"
   ]
  },
  {
   "cell_type": "code",
   "execution_count": 63,
   "id": "4e57a406-18fe-43e5-bcf7-3c30e116c42b",
   "metadata": {},
   "outputs": [
    {
     "name": "stdout",
     "output_type": "stream",
     "text": [
      "94\n",
      "0\n"
     ]
    }
   ],
   "source": [
    "\n",
    "\n",
    "#loop here\n",
    "brickname = '2383p305'\n",
    "Obiwan_LRG = Obiwan_LRG[Obiwan_LRG['brickname'] == brickname]\n",
    "\n",
    "Obiwan_Fast = LegacysurveyCCDList(brickname)\n",
    "Obiwan_Fast.read_sim_gal( Obiwan_LRG ) \n",
    "\n",
    "L_sim = len( Obiwan_Fast.ra )\n",
    "\n",
    "catalog = []\n",
    "#loop here\n",
    "print(L_sim)\n",
    "\n",
    "import time\n",
    "\n",
    "start_time = time.time()\n",
    "\n",
    "\n",
    "\n",
    "for i in range(0,1):\n",
    "    print( i )\n",
    "    \n",
    "    psfdepth_g = 0\n",
    "    psfdepth_r = 0\n",
    "    psfdepth_z = 0\n",
    "    nobs_g = 0\n",
    "    nobs_r = 0\n",
    "    nobs_z = 0\n",
    "\n",
    "    Obiwan_Fast.get_source(i)\n",
    "   \n",
    "    L_CCDs = len( Obiwan_Fast.ccd_list)\n",
    "    tims = []\n",
    "    for j in range(L_CCDs):\n",
    "        Obiwan_Fast.init_one_ccd(j)\n",
    "        Obiwan_Fast.set_local()\n",
    "        #delte the images that does not fully overlap with this blob?\n",
    "        if Obiwan_Fast.x_cen_int<10 or Obiwan_Fast.x_cen_int>=Obiwan_Fast.ccd_width-10 or Obiwan_Fast.y_cen_int<10 or Obiwan_Fast.y_cen_int>=Obiwan_Fast.ccd_height-10:\n",
    "              #this source does not overlap this ccd\n",
    "              continue\n",
    "        if Obiwan_Fast.camera != 'decam':\n",
    "            continue\n",
    "        #print( Obiwan_Fast.x_cen_int, Obiwan_Fast.y_cen_int, Obiwan_Fast.filter,Obiwan_Fast.camera)\n",
    "        Obiwan_Fast.gaussian_background()\n",
    "        Obiwan_Fast.resample_image()\n",
    "        Obiwan_Fast.resample_psf()\n",
    "        Obiwan_Fast.finalize_tim()\n",
    "        tim_j = Obiwan_Fast.final_tim\n",
    "        tims.append(tim_j)\n",
    "        \n",
    "        if Obiwan_Fast.filter == 'g':\n",
    "            psfdepth_g += Obiwan_Fast.psfdetiv\n",
    "            nobs_g += 1\n",
    "        if Obiwan_Fast.filter == 'r':\n",
    "            psfdepth_r += Obiwan_Fast.psfdetiv\n",
    "            nobs_r += 1\n",
    "        if Obiwan_Fast.filter == 'z':\n",
    "            psfdepth_z += Obiwan_Fast.psfdetiv\n",
    "            nobs_z += 1\n",
    "\n",
    "        \n",
    "        #print(Obiwan_Fast.gain, Obiwan_Fast.zpscale, Obiwan_Fast.sig1,Obiwan_Fast.nano2e)\n",
    "        #make a guess src that deviates from the true flux\n",
    "    guess_src = Obiwan_Fast.source_i.copy()\n",
    "    guess_src.brightness.g = Obiwan_Fast.source_i.brightness.g*(1+np.random.normal()*0.1)\n",
    "    guess_src.brightness.r = Obiwan_Fast.source_i.brightness.r*(1+np.random.normal()*0.1)\n",
    "    guess_src.brightness.z = Obiwan_Fast.source_i.brightness.z*(1+np.random.normal()*0.1)\n",
    "    if Obiwan_Fast.source_i.getSourceType() == 'SersicGalaxy':\n",
    "        if Obiwan_Fast.source_i.sersicindex.val < 0.3:\n",
    "            guess_src.sersicindex = LegacySersicIndex(0.3)\n",
    "        if Obiwan_Fast.source_i.sersicindex.val > 5.3:\n",
    "            guess_src.sersicindex = LegacySersicIndex(5.3)\n",
    "    new_tractor = Tractor( tims, [guess_src])\n",
    "    new_tractor.freezeParam('images')\n",
    "    #end_time = time.time()\n",
    "    #print(f\"Elapsed time: {elapsed_minutes:.2f} minutes\")\n",
    "    for i in range(50):\n",
    "        dlnp,X,alpha = new_tractor.optimize()\n",
    "        #print('dlnp', dlnp)\n",
    "        if dlnp < 1e-3:\n",
    "            break\n",
    "    catalog.append( new_tractor.catalog[0] )\n",
    "\n",
    "end_time2 = time.time()\n",
    "elapsed_time = end_time2 - end_time\n",
    "\n",
    "# Convert to minutes\n",
    "#elapsed_minutes = elapsed_time / 60\n",
    "#print(f\"Elapsed time: {elapsed_minutes:.2f} minutes\")"
   ]
  },
  {
   "cell_type": "code",
   "execution_count": 64,
   "id": "6c830b83-a9c4-4ed2-afd6-82fcd2c72140",
   "metadata": {},
   "outputs": [
    {
     "data": {
      "text/plain": [
       "1.0014124242000286"
      ]
     },
     "execution_count": 64,
     "metadata": {},
     "output_type": "execute_result"
    }
   ],
   "source": [
    "Obiwan_Fast.pscale"
   ]
  },
  {
   "cell_type": "code",
   "execution_count": 65,
   "id": "1e8bfd1a-d946-4dd5-b01a-de2079e39f89",
   "metadata": {},
   "outputs": [
    {
     "name": "stdout",
     "output_type": "stream",
     "text": [
      "depth from this script:\n"
     ]
    },
    {
     "data": {
      "text/plain": [
       "(1038.270583640981, 535.590507318468, 35.69738781056809)"
      ]
     },
     "execution_count": 65,
     "metadata": {},
     "output_type": "execute_result"
    }
   ],
   "source": [
    "print(\"depth from this script:\")\n",
    "psfdepth_g, psfdepth_r, psfdepth_z"
   ]
  },
  {
   "cell_type": "code",
   "execution_count": 66,
   "id": "1303a230-7e82-451a-b00c-6f6429f74263",
   "metadata": {},
   "outputs": [
    {
     "name": "stdout",
     "output_type": "stream",
     "text": [
      "depth from the same Obiwan LRG:\n"
     ]
    },
    {
     "data": {
      "text/plain": [
       "(1048.3757, 534.66943, 36.04674)"
      ]
     },
     "execution_count": 66,
     "metadata": {},
     "output_type": "execute_result"
    }
   ],
   "source": [
    "print(\"depth from the same Obiwan LRG:\")\n",
    "idx = 0\n",
    "Obiwan_LRG[idx]['psfdepth_g'], Obiwan_LRG[idx]['psfdepth_r'], Obiwan_LRG[idx]['psfdepth_z']"
   ]
  },
  {
   "cell_type": "code",
   "execution_count": 67,
   "id": "dc7ff95f-35a4-422f-a432-16430a30a8c2",
   "metadata": {},
   "outputs": [
    {
     "name": "stdout",
     "output_type": "stream",
     "text": [
      "n_obs from the same Obiwan LRG:\n"
     ]
    },
    {
     "data": {
      "text/plain": [
       "(2, 3, 2)"
      ]
     },
     "execution_count": 67,
     "metadata": {},
     "output_type": "execute_result"
    }
   ],
   "source": [
    "print(\"n_obs from the same Obiwan LRG:\")\n",
    "Obiwan_LRG[idx]['nobs_g'], Obiwan_LRG[idx]['nobs_r'], Obiwan_LRG[idx]['nobs_z']"
   ]
  },
  {
   "cell_type": "code",
   "execution_count": 68,
   "id": "0f384e23-4b64-4f4e-b693-6c46cd49a683",
   "metadata": {},
   "outputs": [
    {
     "name": "stdout",
     "output_type": "stream",
     "text": [
      "n_obs from the same Obiwan LRG:\n"
     ]
    },
    {
     "data": {
      "text/plain": [
       "(2, 3, 2)"
      ]
     },
     "execution_count": 68,
     "metadata": {},
     "output_type": "execute_result"
    }
   ],
   "source": [
    "print(\"n_obs from the same Obiwan LRG:\")\n",
    "nobs_g, nobs_r, nobs_z"
   ]
  },
  {
   "cell_type": "code",
   "execution_count": null,
   "id": "2d0747c7-7f64-4acd-a677-8d53337f2ec9",
   "metadata": {},
   "outputs": [],
   "source": []
  },
  {
   "cell_type": "code",
   "execution_count": null,
   "id": "8d891d9c-ce1f-4fed-814e-d92485802f56",
   "metadata": {},
   "outputs": [],
   "source": []
  },
  {
   "cell_type": "code",
   "execution_count": null,
   "id": "f42e3a61-d8e9-4e88-a974-a2e81e5819b1",
   "metadata": {},
   "outputs": [],
   "source": []
  },
  {
   "cell_type": "code",
   "execution_count": null,
   "id": "c78b8e2a-bbf7-4ebf-980c-739b96a64507",
   "metadata": {},
   "outputs": [],
   "source": []
  },
  {
   "cell_type": "code",
   "execution_count": 41,
   "id": "aec88933-9bf5-4aaa-95cb-7674f36a77c7",
   "metadata": {},
   "outputs": [],
   "source": [
    "brickname = '2383p305'\n",
    "Obiwan_LRG = Obiwan_LRG[Obiwan_LRG['brickname'] == brickname]\n",
    "\n",
    "Obiwan_Fast = LegacysurveyCCDList(brickname)\n",
    "Obiwan_Fast.read_sim_gal( Obiwan_LRG )\n",
    "\n",
    "Obiwan_Fast.get_source(0)\n",
    "guess_src = Obiwan_Fast.source_i"
   ]
  },
  {
   "cell_type": "code",
   "execution_count": 42,
   "id": "6a1d15e1-d069-4987-aab2-1210cd7cc605",
   "metadata": {},
   "outputs": [],
   "source": [
    "guess_src = Obiwan_Fast.source_i.copy()"
   ]
  },
  {
   "cell_type": "code",
   "execution_count": 43,
   "id": "8b892161-4118-4b3c-87e6-e7d267391dbd",
   "metadata": {},
   "outputs": [
    {
     "name": "stdout",
     "output_type": "stream",
     "text": [
      "true flux\n",
      "0.65924746 1.8840947 4.1069384\n"
     ]
    }
   ],
   "source": [
    "Obiwan_Fast.get_source(0)\n",
    "print(\"true flux\")\n",
    "print( Obiwan_Fast.gflux[0],Obiwan_Fast.rflux[0],Obiwan_Fast.zflux[0] )"
   ]
  },
  {
   "cell_type": "code",
   "execution_count": 53,
   "id": "191ed276-9c81-4d60-a905-fc7ae0b328aa",
   "metadata": {},
   "outputs": [],
   "source": [
    "Obiwan_Fast.get_source(0)\n",
    "\n",
    "Obiwan_Fast.source_i.brightness.g = Obiwan_Fast.source_i.brightness.g*(1+np.random.normal()*0.5)\n",
    "Obiwan_Fast.source_i.brightness.r = Obiwan_Fast.source_i.brightness.r*(1+np.random.normal()*0.5)\n",
    "Obiwan_Fast.source_i.brightness.z = Obiwan_Fast.source_i.brightness.z*(1+np.random.normal()*0.5)"
   ]
  },
  {
   "cell_type": "code",
   "execution_count": null,
   "id": "c7d49683-1f23-463a-a73e-d9ac493afcb5",
   "metadata": {},
   "outputs": [],
   "source": []
  },
  {
   "cell_type": "code",
   "execution_count": 54,
   "id": "4f4b84b9-503f-4d2d-a6e2-737c5da814eb",
   "metadata": {},
   "outputs": [
    {
     "name": "stdout",
     "output_type": "stream",
     "text": [
      "guess flux\n",
      "initial condition has 50% gaussian noise\n"
     ]
    },
    {
     "data": {
      "text/plain": [
       "(0.5691939135598366, 2.25869606418996, 1.83578128317928)"
      ]
     },
     "execution_count": 54,
     "metadata": {},
     "output_type": "execute_result"
    }
   ],
   "source": [
    "print(\"guess flux\")\n",
    "print(\"initial condition has 50% gaussian noise\")\n",
    "Obiwan_Fast.source_i.brightness.g,Obiwan_Fast.source_i.brightness.r,Obiwan_Fast.source_i.brightness.z"
   ]
  },
  {
   "cell_type": "code",
   "execution_count": 55,
   "id": "a547a1f8-d6f2-4b09-a4ad-39dbcedc4d12",
   "metadata": {},
   "outputs": [],
   "source": [
    "new_tractor = Tractor( tims, [Obiwan_Fast.source_i])\n",
    "new_tractor.freezeParam('images')"
   ]
  },
  {
   "cell_type": "code",
   "execution_count": 56,
   "id": "76793dde-bd60-40fa-9d8a-36729551881b",
   "metadata": {},
   "outputs": [
    {
     "name": "stdout",
     "output_type": "stream",
     "text": [
      "dlnp 91.9423333485338\n",
      "dlnp 0.667220340646054\n",
      "dlnp 0.09578170924396545\n",
      "dlnp 0.0078054524083199794\n",
      "dlnp 0.0008288106528198114\n"
     ]
    }
   ],
   "source": [
    "for i in range(50):\n",
    "    dlnp,X,alpha = new_tractor.optimize()\n",
    "    print('dlnp', dlnp)\n",
    "    if dlnp < 1e-3:\n",
    "        break"
   ]
  },
  {
   "cell_type": "code",
   "execution_count": 57,
   "id": "03c81897-04d4-4a96-929e-ce3c942bf391",
   "metadata": {},
   "outputs": [
    {
     "name": "stdout",
     "output_type": "stream",
     "text": [
      "fitted flux\n"
     ]
    },
    {
     "data": {
      "text/plain": [
       "(0.6528065917046801, 1.9013217150242567, 4.273822464940373)"
      ]
     },
     "execution_count": 57,
     "metadata": {},
     "output_type": "execute_result"
    }
   ],
   "source": [
    "print(\"fitted flux\")\n",
    "new_tractor.catalog[0].brightness.g,\\\n",
    "new_tractor.catalog[0].brightness.r,\\\n",
    "new_tractor.catalog[0].brightness.z"
   ]
  },
  {
   "cell_type": "code",
   "execution_count": 58,
   "id": "da29516a-f874-4723-b983-8f8f343963fc",
   "metadata": {},
   "outputs": [
    {
     "data": {
      "text/plain": [
       "SersicGalaxy(pos=RaDecPos[238.43326789276963, 30.38207669907235], brightness=NanoMaggies: g=23, r=21.8, z=20.9, shape=re=0.58981, e1=-0.134797, e2=0.212996, sersicindex=1.172)"
      ]
     },
     "execution_count": 58,
     "metadata": {},
     "output_type": "execute_result"
    }
   ],
   "source": [
    "new_tractor.catalog[0]"
   ]
  },
  {
   "cell_type": "code",
   "execution_count": null,
   "id": "dc19f8b9-75a6-4e56-8b3f-59604b01e4bc",
   "metadata": {},
   "outputs": [],
   "source": []
  },
  {
   "cell_type": "code",
   "execution_count": 50,
   "id": "1f79a7b9-b204-4737-b67e-271ccf566ee5",
   "metadata": {},
   "outputs": [
    {
     "name": "stdout",
     "output_type": "stream",
     "text": [
      "initial condition has 5% gaussian noise\n",
      "guess flux\n"
     ]
    },
    {
     "data": {
      "text/plain": [
       "(0.6550778189596467, 2.0672460786005193, 4.255093954561581)"
      ]
     },
     "execution_count": 50,
     "metadata": {},
     "output_type": "execute_result"
    }
   ],
   "source": [
    "Obiwan_Fast.get_source(0)\n",
    "print(\"initial condition has 5% gaussian noise\")\n",
    "Obiwan_Fast.source_i.brightness.g = Obiwan_Fast.source_i.brightness.g*(1+np.random.normal()*0.05)\n",
    "Obiwan_Fast.source_i.brightness.r = Obiwan_Fast.source_i.brightness.r*(1+np.random.normal()*0.05)\n",
    "Obiwan_Fast.source_i.brightness.z = Obiwan_Fast.source_i.brightness.z*(1+np.random.normal()*0.05)\n",
    "\n",
    "print(\"guess flux\")\n",
    "Obiwan_Fast.source_i.brightness.g,Obiwan_Fast.source_i.brightness.r,Obiwan_Fast.source_i.brightness.z"
   ]
  },
  {
   "cell_type": "code",
   "execution_count": 51,
   "id": "ecef2da9-8a6d-4efd-aba1-70267a9f229a",
   "metadata": {},
   "outputs": [
    {
     "name": "stdout",
     "output_type": "stream",
     "text": [
      "dlnp 12.647871515737734\n",
      "dlnp 0.3386390363089049\n",
      "dlnp 0.012082129735972558\n",
      "dlnp 0.001403811131240218\n",
      "dlnp 0.00013009097528993152\n",
      "dlnp 1.2277243513381109e-05\n",
      "dlnp 2.4521455088688526e-06\n"
     ]
    }
   ],
   "source": [
    "new_tractor = Tractor( tims, [Obiwan_Fast.source_i])\n",
    "new_tractor.freezeParam('images')\n",
    "\n",
    "for i in range(50):\n",
    "    dlnp,X,alpha = new_tractor.optimize()\n",
    "    print('dlnp', dlnp)\n",
    "    if dlnp < 1e-5:\n",
    "        break"
   ]
  },
  {
   "cell_type": "code",
   "execution_count": 52,
   "id": "3afe5cc6-283e-4d75-ba01-02f8b48d82d1",
   "metadata": {},
   "outputs": [
    {
     "name": "stdout",
     "output_type": "stream",
     "text": [
      "fitted flux\n"
     ]
    },
    {
     "data": {
      "text/plain": [
       "(0.6530170675315332, 1.9019771223568829, 4.275127796762296)"
      ]
     },
     "execution_count": 52,
     "metadata": {},
     "output_type": "execute_result"
    }
   ],
   "source": [
    "print(\"fitted flux\")\n",
    "new_tractor.catalog[0].brightness.g,\\\n",
    "new_tractor.catalog[0].brightness.r,\\\n",
    "new_tractor.catalog[0].brightness.z"
   ]
  },
  {
   "cell_type": "code",
   "execution_count": null,
   "id": "6e08d1f6-975a-4789-ba16-6cf013247759",
   "metadata": {},
   "outputs": [],
   "source": []
  },
  {
   "cell_type": "code",
   "execution_count": 310,
   "id": "976500eb-5f3a-475b-832c-9c98ec5c680a",
   "metadata": {},
   "outputs": [
    {
     "name": "stdout",
     "output_type": "stream",
     "text": [
      "90 prime\n"
     ]
    },
    {
     "data": {
      "text/plain": [
       "Text(0.5, 1.0, 'Invvar')"
      ]
     },
     "execution_count": 310,
     "metadata": {},
     "output_type": "execute_result"
    },
    {
     "data": {
      "image/png": "[encoded data removed]",
      "text/plain": [
       "<Figure size 640x480 with 4 Axes>"
      ]
     },
     "metadata": {},
     "output_type": "display_data"
    }
   ],
   "source": [
    "# Get the fit model and residual images for plotting\n",
    "ima = dict(interpolation='nearest', origin='lower', cmap='gray')\n",
    "\n",
    "image = tims[1].data\n",
    "mod = new_tractor.getModelImage(1)\n",
    "chi = new_tractor.getChiImage(1)\n",
    "invvar = tims[1].invvar\n",
    "\n",
    "print(\"90 prime\")\n",
    "# Plots\n",
    "plt.clf()\n",
    "plt.subplot(2,2,1)\n",
    "plt.imshow(image, **ima)\n",
    "plt.axis('off')\n",
    "plt.title('Image')\n",
    "plt.subplot(2,2,2)\n",
    "plt.imshow(mod, **ima)\n",
    "plt.axis('off')\n",
    "plt.title('Tractor model')\n",
    "plt.subplot(2,2,3)\n",
    "plt.imshow(chi, **ima)\n",
    "plt.axis('off')\n",
    "plt.title('Chi')\n",
    "plt.subplot(2,2,4)\n",
    "plt.imshow(invvar, **ima)\n",
    "plt.axis('off')\n",
    "plt.title('Invvar')"
   ]
  },
  {
   "cell_type": "code",
   "execution_count": null,
   "id": "8452b2c2-9ccd-4307-959d-2787ec6fddce",
   "metadata": {},
   "outputs": [],
   "source": []
  },
  {
   "cell_type": "code",
   "execution_count": null,
   "id": "7dfdf74a-7215-4df2-ad34-28ccd150cd50",
   "metadata": {},
   "outputs": [],
   "source": []
  },
  {
   "cell_type": "code",
   "execution_count": 92,
   "id": "5b05dbcb-a3e6-418d-8971-1b923dd32e81",
   "metadata": {},
   "outputs": [],
   "source": [
    "dat = fits.getdata(\"test2.fits\")"
   ]
  },
  {
   "cell_type": "code",
   "execution_count": 93,
   "id": "657b7226-2005-4bff-9f3c-1fe446293fe4",
   "metadata": {},
   "outputs": [
    {
     "data": {
      "text/plain": [
       "ColDefs(\n",
       "    name = 'ra'; format = 'D'\n",
       "    name = 'dec'; format = 'D'\n",
       "    name = 'flux_g'; format = 'D'\n",
       "    name = 'flux_r'; format = 'D'\n",
       "    name = 'flux_z'; format = 'D'\n",
       "    name = 'e1'; format = 'D'\n",
       "    name = 'e2'; format = 'D'\n",
       "    name = 'shape_r'; format = 'D'\n",
       "    name = 'sersic'; format = 'D'\n",
       ")"
      ]
     },
     "execution_count": 93,
     "metadata": {},
     "output_type": "execute_result"
    }
   ],
   "source": [
    "dat.columns"
   ]
  },
  {
   "cell_type": "code",
   "execution_count": 94,
   "id": "8543c8c5-5f7e-4b9e-a35f-0632519bd374",
   "metadata": {},
   "outputs": [
    {
     "data": {
      "text/plain": [
       "(array([ 2.,  0.,  1.,  1., 27., 42., 17.,  2.,  0.,  2.]),\n",
       " array([-1.96957015, -1.57316761, -1.17676508, -0.78036255, -0.38396002,\n",
       "         0.01244251,  0.40884505,  0.80524758,  1.20165011,  1.59805264,\n",
       "         1.99445517]),\n",
       " <BarContainer object of 10 artists>)"
      ]
     },
     "execution_count": 94,
     "metadata": {},
     "output_type": "execute_result"
    },
    {
     "data": {
      "image/png": "[encoded data removed]",
      "text/plain": [
       "<Figure size 640x480 with 1 Axes>"
      ]
     },
     "metadata": {},
     "output_type": "display_data"
    }
   ],
   "source": [
    "plt.hist( dat['flux_z'] - Obiwan_LRG['sim_zflux'] )"
   ]
  },
  {
   "cell_type": "code",
   "execution_count": null,
   "id": "1f4caefc-bff8-4610-9e0e-ea7f37a2922f",
   "metadata": {},
   "outputs": [],
   "source": []
  },
  {
   "cell_type": "code",
   "execution_count": 107,
   "id": "81ccb913-dc0b-4c99-a8e6-2669821614dc",
   "metadata": {},
   "outputs": [
    {
     "data": {
      "image/png": "[encoded data removed]",
      "text/plain": [
       "<Figure size 640x480 with 2 Axes>"
      ]
     },
     "metadata": {},
     "output_type": "display_data"
    }
   ],
   "source": [
    "plt.subplot(2,1,1)\n",
    "n, bins, _ = plt.hist( Obiwan_LRG['flux_r'] - Obiwan_LRG['sim_rflux']+0.03, bins = 50 , label = 'Obiwan LRG')\n",
    "p=plt.hist( dat['flux_r'] - Obiwan_LRG['sim_rflux'], bins = bins, histtype = 'step' , label = 'Fast SSI')\n",
    "plt.legend()\n",
    "plt.xlabel(r'$\\Delta flux\\, r$')\n",
    "\n",
    "plt.subplot(2,1,2)\n",
    "n, bins, _ = plt.hist( Obiwan_LRG['flux_z'] - Obiwan_LRG['sim_zflux']+0.27, bins = 50 , label = 'Obiwan LRG')\n",
    "p=plt.hist( dat['flux_z'] - Obiwan_LRG['sim_zflux'], bins = bins, histtype = 'step' , label = 'Fast SSI')\n",
    "plt.legend()\n",
    "plt.xlabel(r'$\\Delta flux\\, z$')\n",
    "\n",
    "plt.tight_layout()"
   ]
  },
  {
   "cell_type": "code",
   "execution_count": 108,
   "id": "a2f09e18-c144-44e6-97b6-430e8ca5fa98",
   "metadata": {},
   "outputs": [
    {
     "data": {
      "image/png": "[encoded data removed]",
      "text/plain": [
       "<Figure size 640x480 with 2 Axes>"
      ]
     },
     "metadata": {},
     "output_type": "display_data"
    }
   ],
   "source": [
    "plt.subplot(2,1,1)\n",
    "n, bins, _ = plt.hist( Obiwan_LRG['flux_r'] - Obiwan_LRG['sim_rflux'], bins = 50 , label = 'Obiwan LRG')\n",
    "p=plt.hist( dat['flux_r'] - Obiwan_LRG['sim_rflux'], bins = bins, histtype = 'step' , label = 'Fast SSI')\n",
    "plt.legend()\n",
    "plt.xlabel(r'$\\Delta flux\\, r$')\n",
    "\n",
    "plt.subplot(2,1,2)\n",
    "n, bins, _ = plt.hist( Obiwan_LRG['flux_z'] - Obiwan_LRG['sim_zflux'], bins = 50 , label = 'Obiwan LRG')\n",
    "p=plt.hist( dat['flux_z'] - Obiwan_LRG['sim_zflux'], bins = bins, histtype = 'step' , label = 'Fast SSI')\n",
    "plt.legend()\n",
    "plt.xlabel(r'$\\Delta flux\\, z$')\n",
    "\n",
    "plt.tight_layout()"
   ]
  },
  {
   "cell_type": "code",
   "execution_count": null,
   "id": "155a23bf-d21c-4373-9b96-1e62df1beb7b",
   "metadata": {},
   "outputs": [],
   "source": []
  }
 ],
 "metadata": {
  "kernelspec": {
   "display_name": "Dustin Perlmutter Conda",
   "language": "python",
   "name": "tractor"
  },
  "language_info": {
   "codemirror_mode": {
    "name": "ipython",
    "version": 3
   },
   "file_extension": ".py",
   "mimetype": "text/x-python",
   "name": "python",
   "nbconvert_exporter": "python",
   "pygments_lexer": "ipython3",
   "version": "3.10.8"
  }
 },
 "nbformat": 4,
 "nbformat_minor": 5
}
