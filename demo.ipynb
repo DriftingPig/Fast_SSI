{
 "cells": [
  {
   "cell_type": "code",
   "execution_count": 126,
   "id": "4d0e6d5b-2ce7-4d9c-b7cf-4f5707d8f3ff",
   "metadata": {},
   "outputs": [
    {
     "name": "stdout",
     "output_type": "stream",
     "text": [
      "The autoreload extension is already loaded. To reload it, use:\n",
      "  %reload_ext autoreload\n"
     ]
    }
   ],
   "source": [
    "%load_ext autoreload\n",
    "%autoreload 2\n",
    "%reload_ext autoreload\n",
    "    \n",
    "import sys\n",
    "sys.path.append(\".\")\n",
    "\n",
    "from FastObiwan import * \n",
    "import fitsio"
   ]
  },
  {
   "cell_type": "code",
   "execution_count": 127,
   "id": "2d35300b-d12e-4c58-ae72-4bb3a64ea4c0",
   "metadata": {},
   "outputs": [],
   "source": [
    "brickname = '2383p305'"
   ]
  },
  {
   "cell_type": "code",
   "execution_count": 128,
   "id": "934c7888-4b4e-43b3-9391-1d6c8d37bae2",
   "metadata": {},
   "outputs": [
    {
     "name": "stdout",
     "output_type": "stream",
     "text": [
      "/global/u2/h/huikong/desc_work/sys_histgram_surveypropertymapfree/code\n"
     ]
    }
   ],
   "source": [
    "!pwd"
   ]
  },
  {
   "cell_type": "code",
   "execution_count": 129,
   "id": "efb84d67-a574-4798-a7f8-fbf0cc88afea",
   "metadata": {},
   "outputs": [],
   "source": [
    "Obiwan_LRG = fitsio.read(\"/global/cfs/cdirs/desi/survey/catalogs/image_simulations/LRG/NGC/Obiwan_LRGs.fits\", \\\n",
    "                         columns = [\"brickname\", \"sim_ra\", \"sim_dec\", \"sim_gflux\", \"sim_rflux\", \"sim_zflux\", \\\n",
    "                                    \"sim_w1\", \"mw_transmission_w1\", \"sim_rhalf\", \"sim_e1\", \"sim_e2\",\"sim_sersic_n\",\\\n",
    "                                    'nobs_g', 'nobs_r', 'nobs_z', 'psfdepth_g', 'psfdepth_r', 'psfdepth_z','ra','dec'])"
   ]
  },
  {
   "cell_type": "code",
   "execution_count": 130,
   "id": "c2308159-370b-4f6f-8fe9-c19bba926f01",
   "metadata": {},
   "outputs": [
    {
     "data": {
      "text/plain": [
       "(1048.3757, 534.66943, 36.04674)"
      ]
     },
     "execution_count": 130,
     "metadata": {},
     "output_type": "execute_result"
    }
   ],
   "source": [
    "Obiwan_LRG = Obiwan_LRG[Obiwan_LRG['brickname'] == brickname]\n",
    "Obiwan_LRG[0]['psfdepth_g'], Obiwan_LRG[0]['psfdepth_r'], Obiwan_LRG[0]['psfdepth_z']"
   ]
  },
  {
   "cell_type": "code",
   "execution_count": 131,
   "id": "4e57a406-18fe-43e5-bcf7-3c30e116c42b",
   "metadata": {},
   "outputs": [
    {
     "name": "stdout",
     "output_type": "stream",
     "text": [
      "94\n",
      "13\n",
      "Elapsed time: 0.11 minutes\n",
      "Elapsed time: 0.10 minutes\n"
     ]
    }
   ],
   "source": [
    "\n",
    "\n",
    "#loop here\n",
    "brickname = '2383p305'\n",
    "Obiwan_LRG = Obiwan_LRG[Obiwan_LRG['brickname'] == brickname]\n",
    "\n",
    "Obiwan_Fast = LegacysurveyCCDList(brickname)\n",
    "Obiwan_Fast.read_sim_gal( Obiwan_LRG ) \n",
    "\n",
    "L_sim = len( Obiwan_Fast.ra )\n",
    "\n",
    "catalog = []\n",
    "#loop here\n",
    "print(L_sim)\n",
    "\n",
    "import time\n",
    "\n",
    "start_time = time.time()\n",
    "\n",
    "\n",
    "\n",
    "for i in range(13,14):\n",
    "    print( i )\n",
    "    \n",
    "    psfdepth_g = 0\n",
    "    psfdepth_r = 0\n",
    "    psfdepth_z = 0\n",
    "    nobs_g = 0\n",
    "    nobs_r = 0\n",
    "    nobs_z = 0\n",
    "\n",
    "    Obiwan_Fast.get_source(i)\n",
    "   \n",
    "    L_CCDs = len( Obiwan_Fast.ccd_list)\n",
    "    tims = []\n",
    "    for j in range(L_CCDs):\n",
    "        Obiwan_Fast.init_one_ccd(j)\n",
    "        Obiwan_Fast.set_local()\n",
    "        #delte the images that does not fully overlap with this blob?\n",
    "        if Obiwan_Fast.x_cen_int<10 or Obiwan_Fast.x_cen_int>=Obiwan_Fast.ccd_width-10 or Obiwan_Fast.y_cen_int<10 or Obiwan_Fast.y_cen_int>=Obiwan_Fast.ccd_height-10:\n",
    "              #this source does not overlap this ccd\n",
    "              continue\n",
    "        if Obiwan_Fast.camera != 'decam':\n",
    "            continue\n",
    "        #print( Obiwan_Fast.x_cen_int, Obiwan_Fast.y_cen_int, Obiwan_Fast.filter,Obiwan_Fast.camera)\n",
    "        Obiwan_Fast.gaussian_background()\n",
    "        Obiwan_Fast.resample_image()\n",
    "        Obiwan_Fast.resample_psf()\n",
    "        Obiwan_Fast.finalize_tim()\n",
    "        tim_j = Obiwan_Fast.final_tim\n",
    "        tims.append(tim_j)\n",
    "        \n",
    "        if Obiwan_Fast.filter == 'g':\n",
    "            psfdepth_g += Obiwan_Fast.psfdetiv\n",
    "            nobs_g += 1\n",
    "        if Obiwan_Fast.filter == 'r':\n",
    "            psfdepth_r += Obiwan_Fast.psfdetiv\n",
    "            nobs_r += 1\n",
    "        if Obiwan_Fast.filter == 'z':\n",
    "            psfdepth_z += Obiwan_Fast.psfdetiv\n",
    "            nobs_z += 1\n",
    "\n",
    "        \n",
    "        #print(Obiwan_Fast.gain, Obiwan_Fast.zpscale, Obiwan_Fast.sig1,Obiwan_Fast.nano2e)\n",
    "        #make a guess src that deviates from the true flux\n",
    "    guess_src = Obiwan_Fast.source_i.copy()\n",
    "    guess_src.brightness.g = Obiwan_Fast.source_i.brightness.g*(1+np.random.normal()*0.1)\n",
    "    guess_src.brightness.r = Obiwan_Fast.source_i.brightness.r*(1+np.random.normal()*0.1)\n",
    "    guess_src.brightness.z = Obiwan_Fast.source_i.brightness.z*(1+np.random.normal()*0.1)\n",
    "    if Obiwan_Fast.source_i.getSourceType() == 'SersicGalaxy':\n",
    "        if Obiwan_Fast.source_i.sersicindex.val < 0.3:\n",
    "            guess_src.sersicindex = LegacySersicIndex(0.3)\n",
    "        if Obiwan_Fast.source_i.sersicindex.val > 5.3:\n",
    "            guess_src.sersicindex = LegacySersicIndex(5.3)\n",
    "    new_tractor = Tractor( tims, [guess_src])\n",
    "    new_tractor.freezeParam('images')\n",
    "    end_time = time.time()\n",
    "    print(f\"Elapsed time: {elapsed_minutes:.2f} minutes\")\n",
    "    for i in range(50):\n",
    "        dlnp,X,alpha = new_tractor.optimize()\n",
    "        #print('dlnp', dlnp)\n",
    "        if dlnp < 1e-3:\n",
    "            continue\n",
    "    catalog.append( new_tractor.catalog[0] )\n",
    "\n",
    "end_time2 = time.time()\n",
    "elapsed_time = end_time2 - end_time\n",
    "\n",
    "# Convert to minutes\n",
    "elapsed_minutes = elapsed_time / 60\n",
    "print(f\"Elapsed time: {elapsed_minutes:.2f} minutes\")"
   ]
  },
  {
   "cell_type": "code",
   "execution_count": 134,
   "id": "6c830b83-a9c4-4ed2-afd6-82fcd2c72140",
   "metadata": {},
   "outputs": [
    {
     "data": {
      "text/plain": [
       "1.0014158215291384"
      ]
     },
     "execution_count": 134,
     "metadata": {},
     "output_type": "execute_result"
    }
   ],
   "source": [
    "Obiwan_Fast.pscale"
   ]
  },
  {
   "cell_type": "code",
   "execution_count": 114,
   "id": "1e8bfd1a-d946-4dd5-b01a-de2079e39f89",
   "metadata": {},
   "outputs": [
    {
     "name": "stdout",
     "output_type": "stream",
     "text": [
      "depth from this script:\n"
     ]
    },
    {
     "data": {
      "text/plain": [
       "(1389.0192769745038, 405.69466567994914, 110.85359917342659)"
      ]
     },
     "execution_count": 114,
     "metadata": {},
     "output_type": "execute_result"
    }
   ],
   "source": [
    "print(\"depth from this script:\")\n",
    "psfdepth_g, psfdepth_r, psfdepth_z"
   ]
  },
  {
   "cell_type": "code",
   "execution_count": 115,
   "id": "1303a230-7e82-451a-b00c-6f6429f74263",
   "metadata": {},
   "outputs": [
    {
     "name": "stdout",
     "output_type": "stream",
     "text": [
      "depth from the same Obiwan LRG:\n"
     ]
    },
    {
     "data": {
      "text/plain": [
       "(1352.6516, 402.34814, 110.45072)"
      ]
     },
     "execution_count": 115,
     "metadata": {},
     "output_type": "execute_result"
    }
   ],
   "source": [
    "print(\"depth from the same Obiwan LRG:\")\n",
    "idx = 13\n",
    "Obiwan_LRG[idx]['psfdepth_g'], Obiwan_LRG[idx]['psfdepth_r'], Obiwan_LRG[idx]['psfdepth_z']"
   ]
  },
  {
   "cell_type": "code",
   "execution_count": 116,
   "id": "dc7ff95f-35a4-422f-a432-16430a30a8c2",
   "metadata": {},
   "outputs": [
    {
     "name": "stdout",
     "output_type": "stream",
     "text": [
      "n_obs from the same Obiwan LRG:\n"
     ]
    },
    {
     "data": {
      "text/plain": [
       "(3, 3, 4)"
      ]
     },
     "execution_count": 116,
     "metadata": {},
     "output_type": "execute_result"
    }
   ],
   "source": [
    "print(\"n_obs from the same Obiwan LRG:\")\n",
    "Obiwan_LRG[idx]['nobs_g'], Obiwan_LRG[idx]['nobs_r'], Obiwan_LRG[idx]['nobs_z']"
   ]
  },
  {
   "cell_type": "code",
   "execution_count": 117,
   "id": "0f384e23-4b64-4f4e-b693-6c46cd49a683",
   "metadata": {},
   "outputs": [
    {
     "name": "stdout",
     "output_type": "stream",
     "text": [
      "n_obs from the same Obiwan LRG:\n"
     ]
    },
    {
     "data": {
      "text/plain": [
       "(3, 3, 4)"
      ]
     },
     "execution_count": 117,
     "metadata": {},
     "output_type": "execute_result"
    }
   ],
   "source": [
    "print(\"n_obs from the same Obiwan LRG:\")\n",
    "nobs_g, nobs_r, nobs_z"
   ]
  },
  {
   "cell_type": "code",
   "execution_count": null,
   "id": "2d0747c7-7f64-4acd-a677-8d53337f2ec9",
   "metadata": {},
   "outputs": [],
   "source": []
  },
  {
   "cell_type": "code",
   "execution_count": null,
   "id": "8d891d9c-ce1f-4fed-814e-d92485802f56",
   "metadata": {},
   "outputs": [],
   "source": []
  },
  {
   "cell_type": "code",
   "execution_count": null,
   "id": "f42e3a61-d8e9-4e88-a974-a2e81e5819b1",
   "metadata": {},
   "outputs": [],
   "source": []
  },
  {
   "cell_type": "code",
   "execution_count": null,
   "id": "c78b8e2a-bbf7-4ebf-980c-739b96a64507",
   "metadata": {},
   "outputs": [],
   "source": []
  },
  {
   "cell_type": "code",
   "execution_count": 83,
   "id": "aec88933-9bf5-4aaa-95cb-7674f36a77c7",
   "metadata": {},
   "outputs": [],
   "source": [
    "brickname = '2383p305'\n",
    "Obiwan_LRG = Obiwan_LRG[Obiwan_LRG['brickname'] == brickname]\n",
    "\n",
    "Obiwan_Fast = LegacysurveyCCDList(brickname)\n",
    "Obiwan_Fast.read_sim_gal( Obiwan_LRG )\n",
    "\n",
    "Obiwan_Fast.get_source(1)\n",
    "guess_src = Obiwan_Fast.source_i"
   ]
  },
  {
   "cell_type": "code",
   "execution_count": 84,
   "id": "6a1d15e1-d069-4987-aab2-1210cd7cc605",
   "metadata": {},
   "outputs": [],
   "source": [
    "guess_src = Obiwan_Fast.source_i.copy()"
   ]
  },
  {
   "cell_type": "code",
   "execution_count": 99,
   "id": "8b892161-4118-4b3c-87e6-e7d267391dbd",
   "metadata": {},
   "outputs": [
    {
     "name": "stdout",
     "output_type": "stream",
     "text": [
      "true flux\n",
      "0.38494387 1.2156016 4.2577634\n"
     ]
    }
   ],
   "source": [
    "Obiwan_Fast.get_source(13)\n",
    "print(\"true flux\")\n",
    "print( Obiwan_Fast.gflux[13],Obiwan_Fast.rflux[13],Obiwan_Fast.zflux[13] )"
   ]
  },
  {
   "cell_type": "code",
   "execution_count": 100,
   "id": "191ed276-9c81-4d60-a905-fc7ae0b328aa",
   "metadata": {},
   "outputs": [],
   "source": [
    "Obiwan_Fast.get_source(13)\n",
    "\n",
    "Obiwan_Fast.source_i.brightness.g = Obiwan_Fast.source_i.brightness.g*(1+np.random.normal()*0.5)\n",
    "Obiwan_Fast.source_i.brightness.r = Obiwan_Fast.source_i.brightness.r*(1+np.random.normal()*0.5)\n",
    "Obiwan_Fast.source_i.brightness.z = Obiwan_Fast.source_i.brightness.z*(1+np.random.normal()*0.5)"
   ]
  },
  {
   "cell_type": "code",
   "execution_count": null,
   "id": "c7d49683-1f23-463a-a73e-d9ac493afcb5",
   "metadata": {},
   "outputs": [],
   "source": []
  },
  {
   "cell_type": "code",
   "execution_count": 101,
   "id": "4f4b84b9-503f-4d2d-a6e2-737c5da814eb",
   "metadata": {},
   "outputs": [
    {
     "name": "stdout",
     "output_type": "stream",
     "text": [
      "guess flux\n",
      "initial condition has 50% gaussian noise\n"
     ]
    },
    {
     "data": {
      "text/plain": [
       "(0.5532761294055961, 1.9898596587271398, 5.498297545496144)"
      ]
     },
     "execution_count": 101,
     "metadata": {},
     "output_type": "execute_result"
    }
   ],
   "source": [
    "print(\"guess flux\")\n",
    "print(\"initial condition has 50% gaussian noise\")\n",
    "Obiwan_Fast.source_i.brightness.g,Obiwan_Fast.source_i.brightness.r,Obiwan_Fast.source_i.brightness.z"
   ]
  },
  {
   "cell_type": "code",
   "execution_count": 102,
   "id": "a547a1f8-d6f2-4b09-a4ad-39dbcedc4d12",
   "metadata": {},
   "outputs": [],
   "source": [
    "new_tractor = Tractor( tims, [Obiwan_Fast.source_i])\n",
    "new_tractor.freezeParam('images')"
   ]
  },
  {
   "cell_type": "code",
   "execution_count": 103,
   "id": "76793dde-bd60-40fa-9d8a-36729551881b",
   "metadata": {},
   "outputs": [
    {
     "name": "stdout",
     "output_type": "stream",
     "text": [
      "dlnp 107.57635224846854\n",
      "dlnp 0.5730950236002172\n",
      "dlnp 0.030349762891091814\n",
      "dlnp 0.0002111621370204375\n"
     ]
    }
   ],
   "source": [
    "for i in range(50):\n",
    "    dlnp,X,alpha = new_tractor.optimize()\n",
    "    print('dlnp', dlnp)\n",
    "    if dlnp < 1e-3:\n",
    "        break"
   ]
  },
  {
   "cell_type": "code",
   "execution_count": 104,
   "id": "03c81897-04d4-4a96-929e-ce3c942bf391",
   "metadata": {},
   "outputs": [
    {
     "name": "stdout",
     "output_type": "stream",
     "text": [
      "fitted flux\n"
     ]
    },
    {
     "data": {
      "text/plain": [
       "(0.32083491821368054, 1.3622125072322997, 4.517134878996103)"
      ]
     },
     "execution_count": 104,
     "metadata": {},
     "output_type": "execute_result"
    }
   ],
   "source": [
    "print(\"fitted flux\")\n",
    "new_tractor.catalog[0].brightness.g,\\\n",
    "new_tractor.catalog[0].brightness.r,\\\n",
    "new_tractor.catalog[0].brightness.z"
   ]
  },
  {
   "cell_type": "code",
   "execution_count": 105,
   "id": "da29516a-f874-4723-b983-8f8f343963fc",
   "metadata": {},
   "outputs": [
    {
     "data": {
      "text/plain": [
       "ExpGalaxy(pos=RaDecPos[238.29658334942144, 30.40836242858371], brightness=NanoMaggies: g=23.7, r=22.2, z=20.9, shape=re=0.541496, e1=0.121144, e2=0.0134577)"
      ]
     },
     "execution_count": 105,
     "metadata": {},
     "output_type": "execute_result"
    }
   ],
   "source": [
    "new_tractor.catalog[0]"
   ]
  },
  {
   "cell_type": "code",
   "execution_count": null,
   "id": "dc19f8b9-75a6-4e56-8b3f-59604b01e4bc",
   "metadata": {},
   "outputs": [],
   "source": []
  },
  {
   "cell_type": "code",
   "execution_count": 109,
   "id": "1f79a7b9-b204-4737-b67e-271ccf566ee5",
   "metadata": {},
   "outputs": [
    {
     "name": "stdout",
     "output_type": "stream",
     "text": [
      "initial condition has 5% gaussian noise\n",
      "guess flux\n"
     ]
    },
    {
     "data": {
      "text/plain": [
       "(0.41784146154777396, 1.1832117268591371, 4.522230794268851)"
      ]
     },
     "execution_count": 109,
     "metadata": {},
     "output_type": "execute_result"
    }
   ],
   "source": [
    "Obiwan_Fast.get_source(13)\n",
    "print(\"initial condition has 5% gaussian noise\")\n",
    "Obiwan_Fast.source_i.brightness.g = Obiwan_Fast.source_i.brightness.g*(1+np.random.normal()*0.05)\n",
    "Obiwan_Fast.source_i.brightness.r = Obiwan_Fast.source_i.brightness.r*(1+np.random.normal()*0.05)\n",
    "Obiwan_Fast.source_i.brightness.z = Obiwan_Fast.source_i.brightness.z*(1+np.random.normal()*0.05)\n",
    "\n",
    "print(\"guess flux\")\n",
    "Obiwan_Fast.source_i.brightness.g,Obiwan_Fast.source_i.brightness.r,Obiwan_Fast.source_i.brightness.z"
   ]
  },
  {
   "cell_type": "code",
   "execution_count": 110,
   "id": "ecef2da9-8a6d-4efd-aba1-70267a9f229a",
   "metadata": {},
   "outputs": [
    {
     "name": "stdout",
     "output_type": "stream",
     "text": [
      "dlnp 13.962897691910257\n",
      "dlnp 0.2895769202732481\n",
      "dlnp 0.0018026341504082666\n",
      "dlnp 7.284646017069463e-05\n",
      "dlnp 5.629147381114308e-06\n"
     ]
    }
   ],
   "source": [
    "new_tractor = Tractor( tims, [Obiwan_Fast.source_i])\n",
    "new_tractor.freezeParam('images')\n",
    "\n",
    "for i in range(50):\n",
    "    dlnp,X,alpha = new_tractor.optimize()\n",
    "    print('dlnp', dlnp)\n",
    "    if dlnp < 1e-5:\n",
    "        break"
   ]
  },
  {
   "cell_type": "code",
   "execution_count": 111,
   "id": "3afe5cc6-283e-4d75-ba01-02f8b48d82d1",
   "metadata": {},
   "outputs": [
    {
     "name": "stdout",
     "output_type": "stream",
     "text": [
      "fitted flux\n"
     ]
    },
    {
     "data": {
      "text/plain": [
       "(0.32095027036522494, 1.3623653251190564, 4.516563404439673)"
      ]
     },
     "execution_count": 111,
     "metadata": {},
     "output_type": "execute_result"
    }
   ],
   "source": [
    "print(\"fitted flux\")\n",
    "new_tractor.catalog[0].brightness.g,\\\n",
    "new_tractor.catalog[0].brightness.r,\\\n",
    "new_tractor.catalog[0].brightness.z"
   ]
  },
  {
   "cell_type": "code",
   "execution_count": null,
   "id": "6e08d1f6-975a-4789-ba16-6cf013247759",
   "metadata": {},
   "outputs": [],
   "source": []
  },
  {
   "cell_type": "code",
   "execution_count": 310,
   "id": "976500eb-5f3a-475b-832c-9c98ec5c680a",
   "metadata": {},
   "outputs": [
    {
     "name": "stdout",
     "output_type": "stream",
     "text": [
      "90 prime\n"
     ]
    },
    {
     "data": {
      "text/plain": [
       "Text(0.5, 1.0, 'Invvar')"
      ]
     },
     "execution_count": 310,
     "metadata": {},
     "output_type": "execute_result"
    },
    {
     "data": {
      "image/png": "[encoded data removed]",
      "text/plain": [
       "<Figure size 640x480 with 4 Axes>"
      ]
     },
     "metadata": {},
     "output_type": "display_data"
    }
   ],
   "source": [
    "# Get the fit model and residual images for plotting\n",
    "ima = dict(interpolation='nearest', origin='lower', cmap='gray')\n",
    "\n",
    "image = tims[1].data\n",
    "mod = new_tractor.getModelImage(1)\n",
    "chi = new_tractor.getChiImage(1)\n",
    "invvar = tims[1].invvar\n",
    "\n",
    "print(\"90 prime\")\n",
    "# Plots\n",
    "plt.clf()\n",
    "plt.subplot(2,2,1)\n",
    "plt.imshow(image, **ima)\n",
    "plt.axis('off')\n",
    "plt.title('Image')\n",
    "plt.subplot(2,2,2)\n",
    "plt.imshow(mod, **ima)\n",
    "plt.axis('off')\n",
    "plt.title('Tractor model')\n",
    "plt.subplot(2,2,3)\n",
    "plt.imshow(chi, **ima)\n",
    "plt.axis('off')\n",
    "plt.title('Chi')\n",
    "plt.subplot(2,2,4)\n",
    "plt.imshow(invvar, **ima)\n",
    "plt.axis('off')\n",
    "plt.title('Invvar')"
   ]
  },
  {
   "cell_type": "code",
   "execution_count": null,
   "id": "8452b2c2-9ccd-4307-959d-2787ec6fddce",
   "metadata": {},
   "outputs": [],
   "source": []
  },
  {
   "cell_type": "code",
   "execution_count": null,
   "id": "7dfdf74a-7215-4df2-ad34-28ccd150cd50",
   "metadata": {},
   "outputs": [],
   "source": []
  },
  {
   "cell_type": "code",
   "execution_count": null,
   "id": "5b05dbcb-a3e6-418d-8971-1b923dd32e81",
   "metadata": {},
   "outputs": [],
   "source": []
  }
 ],
 "metadata": {
  "kernelspec": {
   "display_name": "Dustin Perlmutter Conda",
   "language": "python",
   "name": "tractor"
  },
  "language_info": {
   "codemirror_mode": {
    "name": "ipython",
    "version": 3
   },
   "file_extension": ".py",
   "mimetype": "text/x-python",
   "name": "python",
   "nbconvert_exporter": "python",
   "pygments_lexer": "ipython3",
   "version": "3.10.8"
  }
 },
 "nbformat": 4,
 "nbformat_minor": 5
}
