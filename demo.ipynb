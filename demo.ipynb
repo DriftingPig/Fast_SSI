{
 "cells": [
  {
   "cell_type": "code",
   "execution_count": 131,
   "id": "4d0e6d5b-2ce7-4d9c-b7cf-4f5707d8f3ff",
   "metadata": {},
   "outputs": [],
   "source": [
    "%load_ext autoreload\n",
    "%autoreload 2\n",
    "%reload_ext autoreload\n",
    "    \n",
    "import sys\n",
    "sys.path.append(\"./\")\n",
    "from FastObiwan import * \n",
    "import fitsio"
   ]
  },
  {
   "cell_type": "code",
   "execution_count": 132,
   "id": "4e57a406-18fe-43e5-bcf7-3c30e116c42b",
   "metadata": {},
   "outputs": [],
   "source": [
    "Obiwan_LRG = fitsio.read(\"/global/cfs/cdirs/desi/survey/catalogs/image_simulations/LRG/NGC/Obiwan_LRGs.fits\", \\\n",
    "                         columns = [\"brickname\", \"sim_ra\", \"sim_dec\", \"sim_gflux\", \"sim_rflux\", \"sim_zflux\", \"sim_w1\", \"mw_transmission_w1\", \"sim_rhalf\", \"sim_e1\", \"sim_e2\",\"sim_sersic_n\"])\n",
    "\n",
    "#loop here\n",
    "brickname = '2383p305'\n",
    "Obiwan_LRG = Obiwan_LRG[Obiwan_LRG['brickname'] == brickname]\n",
    "\n",
    "Obiwan_Fast = LegacysurveyCCDList(brickname)\n",
    "Obiwan_Fast.read_sim_gal( Obiwan_LRG )\n",
    "#loop here\n",
    "Obiwan_Fast.get_source(0)\n",
    "#loop here\n",
    "L_CCDs = len( Obiwan_Fast.ccd_list)\n",
    "\n",
    "tims = []\n",
    "for i in range(L_CCDs):\n",
    "    Obiwan_Fast.init_one_ccd(i)\n",
    "    Obiwan_Fast.set_local()\n",
    "    Obiwan_Fast.gaussian_background()\n",
    "    Obiwan_Fast.resample_image()\n",
    "    Obiwan_Fast.resample_psf()\n",
    "    Obiwan_Fast.finalize_tim()\n",
    "    tim_i = Obiwan_Fast.final_tim\n",
    "    tims.append(tim_i)\n",
    "    #print(Obiwan_Fast.gain, Obiwan_Fast.zpscale, Obiwan_Fast.sig1,Obiwan_Fast.nano2e)"
   ]
  },
  {
   "cell_type": "code",
   "execution_count": 133,
   "id": "8b892161-4118-4b3c-87e6-e7d267391dbd",
   "metadata": {},
   "outputs": [
    {
     "data": {
      "text/plain": [
       "(0.65924746, 1.8840947, 4.1069384)"
      ]
     },
     "execution_count": 133,
     "metadata": {},
     "output_type": "execute_result"
    }
   ],
   "source": [
    "Obiwan_Fast.get_source(0)\n",
    "print(\"true flux\")\n",
    "print( Obiwan_Fast.source_i.brightness.g,Obiwan_Fast.source_i.brightness.r,Obiwan_Fast.source_i.brightness.z )"
   ]
  },
  {
   "cell_type": "code",
   "execution_count": 136,
   "id": "191ed276-9c81-4d60-a905-fc7ae0b328aa",
   "metadata": {},
   "outputs": [],
   "source": [
    "Obiwan_Fast.get_source(0)\n",
    "Obiwan_Fast.source_i.brightness.g = Obiwan_Fast.source_i.brightness.g*(1+np.random.normal()*0.5)\n",
    "Obiwan_Fast.source_i.brightness.r = Obiwan_Fast.source_i.brightness.r*(1+np.random.normal()*0.5)\n",
    "Obiwan_Fast.source_i.brightness.z = Obiwan_Fast.source_i.brightness.z*(1+np.random.normal()*0.5)"
   ]
  },
  {
   "cell_type": "code",
   "execution_count": null,
   "id": "c7d49683-1f23-463a-a73e-d9ac493afcb5",
   "metadata": {},
   "outputs": [],
   "source": []
  },
  {
   "cell_type": "code",
   "execution_count": 137,
   "id": "4f4b84b9-503f-4d2d-a6e2-737c5da814eb",
   "metadata": {},
   "outputs": [
    {
     "name": "stdout",
     "output_type": "stream",
     "text": [
      "guess flux\n"
     ]
    },
    {
     "data": {
      "text/plain": [
       "(0.998210298166907, 1.0151240707545597, 4.508360945647031)"
      ]
     },
     "execution_count": 137,
     "metadata": {},
     "output_type": "execute_result"
    }
   ],
   "source": [
    "print(\"guess flux\")\n",
    "Obiwan_Fast.source_i.brightness.g,Obiwan_Fast.source_i.brightness.r,Obiwan_Fast.source_i.brightness.z"
   ]
  },
  {
   "cell_type": "code",
   "execution_count": 138,
   "id": "a547a1f8-d6f2-4b09-a4ad-39dbcedc4d12",
   "metadata": {},
   "outputs": [],
   "source": [
    "new_tractor = Tractor( tims, [Obiwan_Fast.source_i])\n",
    "new_tractor.freezeParam('images')"
   ]
  },
  {
   "cell_type": "code",
   "execution_count": 139,
   "id": "76793dde-bd60-40fa-9d8a-36729551881b",
   "metadata": {},
   "outputs": [
    {
     "name": "stdout",
     "output_type": "stream",
     "text": [
      "dlnp 472.88686669644085\n",
      "dlnp 268.2909795548767\n",
      "dlnp 42.0194631851482\n",
      "dlnp 18.779871163147618\n",
      "dlnp 4.460379011317855\n",
      "dlnp 2.1998997103364673\n",
      "dlnp 0.546522276577889\n",
      "dlnp 0\n"
     ]
    }
   ],
   "source": [
    "for i in range(50):\n",
    "    dlnp,X,alpha = new_tractor.optimize()\n",
    "    print('dlnp', dlnp)\n",
    "    if dlnp < 1e-5:\n",
    "        break"
   ]
  },
  {
   "cell_type": "code",
   "execution_count": 140,
   "id": "03c81897-04d4-4a96-929e-ce3c942bf391",
   "metadata": {},
   "outputs": [],
   "source": [
    "b = Obiwan_Fast.source_i.brightness"
   ]
  },
  {
   "cell_type": "code",
   "execution_count": 143,
   "id": "da29516a-f874-4723-b983-8f8f343963fc",
   "metadata": {},
   "outputs": [
    {
     "name": "stdout",
     "output_type": "stream",
     "text": [
      "fitted flux\n"
     ]
    },
    {
     "data": {
      "text/plain": [
       "(0.8420217032889254, 1.5016950503413156, 4.363751307402345)"
      ]
     },
     "execution_count": 143,
     "metadata": {},
     "output_type": "execute_result"
    }
   ],
   "source": [
    "print(\"fitted flux\")\n",
    "b.g, b.r, b.z"
   ]
  },
  {
   "cell_type": "code",
   "execution_count": 144,
   "id": "058ab8d6-9d78-4d6f-a0ee-77e8c310f847",
   "metadata": {},
   "outputs": [
    {
     "data": {
      "text/plain": [
       "SersicGalaxy(pos=RaDecPos[238.43327189211578, 30.382086031371017], brightness=NanoMaggies: g=22.7, r=22.1, z=20.9, shape=re=0.690072, e1=-0.276785, e2=0.202344, sersicindex=0.500)"
      ]
     },
     "execution_count": 144,
     "metadata": {},
     "output_type": "execute_result"
    }
   ],
   "source": [
    "Obiwan_Fast.source_i"
   ]
  },
  {
   "cell_type": "code",
   "execution_count": null,
   "id": "dc19f8b9-75a6-4e56-8b3f-59604b01e4bc",
   "metadata": {},
   "outputs": [],
   "source": []
  },
  {
   "cell_type": "code",
   "execution_count": 150,
   "id": "1f79a7b9-b204-4737-b67e-271ccf566ee5",
   "metadata": {},
   "outputs": [
    {
     "name": "stdout",
     "output_type": "stream",
     "text": [
      "guess flux\n"
     ]
    },
    {
     "data": {
      "text/plain": [
       "(0.6567202539904605, 2.106338229727914, 4.432322764550943)"
      ]
     },
     "execution_count": 150,
     "metadata": {},
     "output_type": "execute_result"
    }
   ],
   "source": [
    "Obiwan_Fast.get_source(0)\n",
    "Obiwan_Fast.source_i.brightness.g = Obiwan_Fast.source_i.brightness.g*(1+np.random.normal()*0.05)\n",
    "Obiwan_Fast.source_i.brightness.r = Obiwan_Fast.source_i.brightness.r*(1+np.random.normal()*0.05)\n",
    "Obiwan_Fast.source_i.brightness.z = Obiwan_Fast.source_i.brightness.z*(1+np.random.normal()*0.05)\n",
    "\n",
    "print(\"guess flux\")\n",
    "Obiwan_Fast.source_i.brightness.g,Obiwan_Fast.source_i.brightness.r,Obiwan_Fast.source_i.brightness.z"
   ]
  },
  {
   "cell_type": "code",
   "execution_count": 151,
   "id": "ecef2da9-8a6d-4efd-aba1-70267a9f229a",
   "metadata": {},
   "outputs": [
    {
     "name": "stdout",
     "output_type": "stream",
     "text": [
      "dlnp 38.93269123369828\n",
      "dlnp 6.669643624292803\n",
      "dlnp 1.066012730341754\n",
      "dlnp 0.24081263107655104\n",
      "dlnp 0.014743693041964434\n",
      "dlnp 0\n"
     ]
    }
   ],
   "source": [
    "new_tractor = Tractor( tims, [Obiwan_Fast.source_i])\n",
    "new_tractor.freezeParam('images')\n",
    "\n",
    "for i in range(50):\n",
    "    dlnp,X,alpha = new_tractor.optimize()\n",
    "    print('dlnp', dlnp)\n",
    "    if dlnp < 1e-5:\n",
    "        break"
   ]
  },
  {
   "cell_type": "code",
   "execution_count": 152,
   "id": "3afe5cc6-283e-4d75-ba01-02f8b48d82d1",
   "metadata": {},
   "outputs": [
    {
     "name": "stdout",
     "output_type": "stream",
     "text": [
      "fitted flux\n"
     ]
    },
    {
     "data": {
      "text/plain": [
       "(0.8420217032889254, 1.5016950503413156, 4.363751307402345)"
      ]
     },
     "execution_count": 152,
     "metadata": {},
     "output_type": "execute_result"
    }
   ],
   "source": [
    "print(\"fitted flux\")\n",
    "b.g, b.r, b.z"
   ]
  },
  {
   "cell_type": "code",
   "execution_count": null,
   "id": "6e08d1f6-975a-4789-ba16-6cf013247759",
   "metadata": {},
   "outputs": [],
   "source": [
    "#The fitting result depends on intial guess? "
   ]
  }
 ],
 "metadata": {
  "kernelspec": {
   "display_name": "Dustin Perlmutter Conda",
   "language": "python",
   "name": "tractor"
  },
  "language_info": {
   "codemirror_mode": {
    "name": "ipython",
    "version": 3
   },
   "file_extension": ".py",
   "mimetype": "text/x-python",
   "name": "python",
   "nbconvert_exporter": "python",
   "pygments_lexer": "ipython3",
   "version": "3.10.8"
  }
 },
 "nbformat": 4,
 "nbformat_minor": 5
}
