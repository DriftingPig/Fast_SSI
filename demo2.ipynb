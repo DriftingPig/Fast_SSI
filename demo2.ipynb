{
 "cells": [
  {
   "cell_type": "markdown",
   "id": "42e1c021-8cce-4c44-a696-2565621b1edb",
   "metadata": {},
   "source": [
    "In demo1, the processing time is longer than I expected. In this new demo, I start directly on resampled images for each CCD, and ignor the scale different between the original PSF and resampled PSF. \n",
    "\n",
    "I check one psacle = 1.0014158215291384, so I think this is negligible \n",
    "\n",
    "Then the stamp sources should be able to have a Null WCS, with PSF directly taken from the psfex file\n",
    "\n",
    "I check how fast the code runs with this procedure"
   ]
  },
  {
   "cell_type": "code",
   "execution_count": 1,
   "id": "a4e81f31-7cba-4774-ae02-55c3cf6e46c6",
   "metadata": {},
   "outputs": [],
   "source": [
    "%load_ext autoreload\n",
    "%autoreload 2\n",
    "%reload_ext autoreload\n",
    "    \n",
    "import sys\n",
    "sys.path.append(\".\")\n",
    "\n",
    "from FastObiwan import * \n",
    "import fitsio"
   ]
  },
  {
   "cell_type": "code",
   "execution_count": 2,
   "id": "2fb40111-1241-483e-88b6-348588f098ee",
   "metadata": {},
   "outputs": [],
   "source": [
    "brickname = '2383p305'\n",
    "\n",
    "Obiwan_LRG = fitsio.read(\"/global/cfs/cdirs/desi/survey/catalogs/image_simulations/LRG/NGC/Obiwan_LRGs.fits\", \\\n",
    "                         columns = [\"brickname\", \"sim_gflux\", \"sim_rflux\", \"sim_zflux\", \\\n",
    "                                    \"sim_w1\", \"mw_transmission_w1\", \"sim_rhalf\", \"sim_e1\", \"sim_e2\",\"sim_sersic_n\",\\\n",
    "                                    'nobs_g', 'nobs_r', 'nobs_z', 'psfdepth_g', 'psfdepth_r', 'psfdepth_z','ra','dec', 'flux_r', 'flux_g', 'flux_z'])\n",
    "Obiwan_LRG = Obiwan_LRG[Obiwan_LRG['brickname'] == brickname]\n",
    "T = fits_table(Obiwan_LRG)\n",
    "T.writeto(\"testbrick_2383p305.fits\")"
   ]
  },
  {
   "cell_type": "code",
   "execution_count": 9,
   "id": "506c6926-79b7-41c7-8004-6b6c48480ae8",
   "metadata": {},
   "outputs": [],
   "source": [
    "Obiwan_LRG = fitsio.read( \"testbrick_2383p305.fits\" )"
   ]
  },
  {
   "cell_type": "code",
   "execution_count": 10,
   "id": "d3ef1f84-4452-45f3-b71e-e124a6ca24e6",
   "metadata": {},
   "outputs": [],
   "source": [
    "Obiwan_Fast = LegacysurveyCCDList(brickname)\n",
    "Obiwan_Fast.read_sim_gal( Obiwan_LRG ) "
   ]
  },
  {
   "cell_type": "code",
   "execution_count": 49,
   "id": "a78eac24-e141-4abd-ab75-e60df83a369a",
   "metadata": {},
   "outputs": [
    {
     "name": "stdout",
     "output_type": "stream",
     "text": [
      "0\n",
      "dlnp 14.130863431093985\n",
      "dlnp 2.142704735631014\n",
      "dlnp 0.27600412796755336\n",
      "dlnp 0.016275606154522393\n",
      "dlnp 0.002361981707963423\n",
      "dlnp 0.0034369136842542503\n",
      "dlnp 0.005495339362369123\n",
      "dlnp 0.0013972951442156045\n",
      "dlnp 0.0005697830811186577\n",
      "dlnp 0.00018044387206828105\n",
      "dlnp 8.271213437183178e-05\n",
      "dlnp 0\n",
      "Elapsed time: 0.14 minutes\n"
     ]
    }
   ],
   "source": [
    "Obiwan_Fast = LegacysurveyCCDList(brickname)\n",
    "Obiwan_Fast.read_sim_gal( Obiwan_LRG ) \n",
    "\n",
    "catalog = []\n",
    "\n",
    "import time\n",
    "start_time = time.time()\n",
    "L_sim = len(Obiwan_Fast.ra)\n",
    "\n",
    "for i in range(0,1):\n",
    "    print(i)\n",
    "    Obiwan_Fast.get_source(i, position = 'pixel')\n",
    "\n",
    "    L_ccd = len(Obiwan_Fast.ccd_list)\n",
    "    W,H = 31,31\n",
    "    \n",
    "    tims = []\n",
    "    for j in range( L_ccd ): \n",
    "        \n",
    "        Obiwan_Fast.init_one_ccd(j)\n",
    "        flag, xx, yy = Obiwan_Fast.raw_twcs.radec2pixelxy( Obiwan_Fast.src_ra, Obiwan_Fast.src_dec )\n",
    "        if xx<10 or xx>=Obiwan_Fast.ccd_width-10 or yy<10 or yy>=Obiwan_Fast.ccd_height-10:\n",
    "            continue\n",
    "        subpsf = Obiwan_Fast.raw_psf.constantPsfAt( xx-1, yy-1)\n",
    "        photocal=LinearPhotoCal(1, band = Obiwan_Fast.filter)\n",
    "        #print( Obiwan_Fast.filter)\n",
    "        tim = Image( data = np.zeros((H,W)), invvar = np.ones((H,W)), psf = subpsf, wcs=NullWCS(), photocal = photocal)\n",
    "        \n",
    "        tractor_i = Tractor([tim], [Obiwan_Fast.source_i])\n",
    "        clean_mod0 = tractor_i.getModelImage(0)\n",
    "        \n",
    "        final_data = clean_mod0+np.random.normal(size=clean_mod0.shape ) * Obiwan_Fast.sig1\n",
    "\n",
    "        noise_stamp = clean_mod0/Obiwan_Fast.nano2e\n",
    "        noise_stamp[np.where( noise_stamp < 0)] = 0\n",
    "        assert( np.all(noise_stamp) >=0 )\n",
    "        noise_sq_tot = np.ones((H,W))*Obiwan_Fast.sig1**2+noise_stamp\n",
    "        final_invvar = 1./noise_sq_tot\n",
    "        tim.data = final_data\n",
    "        tim.setInvvar( final_invvar )\n",
    "        #tim = Image( data = final_data, invvar = final_invvar, psf = subpsf, wcs=NullWCS(), photocal = photocal)\n",
    "        \n",
    "        tims.append(tim)\n",
    "\n",
    "    guess_src = Obiwan_Fast.source_i.copy()\n",
    "    guess_src.brightness.g = Obiwan_Fast.source_i.brightness.g*(1+np.random.normal()*0.1)\n",
    "    guess_src.brightness.r = Obiwan_Fast.source_i.brightness.r*(1+np.random.normal()*0.1)\n",
    "    guess_src.brightness.z = Obiwan_Fast.source_i.brightness.z*(1+np.random.normal()*0.1)\n",
    "    if Obiwan_Fast.source_i.getSourceType() == 'SersicGalaxy':\n",
    "        if Obiwan_Fast.source_i.sersicindex.val < 0.3:\n",
    "            guess_src.sersicindex = LegacySersicIndex(0.3)\n",
    "        if Obiwan_Fast.source_i.sersicindex.val > 5.3:\n",
    "            guess_src.sersicindex = LegacySersicIndex(5.3)\n",
    "    new_tractor = Tractor(tims, [guess_src])\n",
    "    \n",
    "    for i in range(50):\n",
    "        dlnp,X,alpha = new_tractor.optimize()\n",
    "        print( 'dlnp', dlnp )\n",
    "        if dlnp < 1e-5:\n",
    "            break\n",
    "    catalog.append(new_tractor.catalog[0])\n",
    "\n",
    "end_time = time.time()\n",
    "elapsed_time = end_time - start_time\n",
    "\n",
    "# Convert to minutes\n",
    "elapsed_minutes = elapsed_time / 60\n",
    "print(f\"Elapsed time: {elapsed_minutes:.2f} minutes\")"
   ]
  },
  {
   "cell_type": "code",
   "execution_count": 54,
   "id": "9fde19a3-35d5-4c8e-9cc1-327220de1984",
   "metadata": {},
   "outputs": [
    {
     "data": {
      "text/plain": [
       "1.8274369241496748"
      ]
     },
     "execution_count": 54,
     "metadata": {},
     "output_type": "execute_result"
    }
   ],
   "source": [
    "new_tractor.catalog[0].brightness.r"
   ]
  },
  {
   "cell_type": "code",
   "execution_count": 55,
   "id": "c6f1c9e1-d530-45b6-8bac-da1e76aa367a",
   "metadata": {},
   "outputs": [
    {
     "data": {
      "text/plain": [
       "1.8840947"
      ]
     },
     "execution_count": 55,
     "metadata": {},
     "output_type": "execute_result"
    }
   ],
   "source": [
    "Obiwan_Fast.source_i.brightness.r"
   ]
  },
  {
   "cell_type": "code",
   "execution_count": 56,
   "id": "ea127c44-3bdf-4f8b-925a-cfe322c5ec79",
   "metadata": {},
   "outputs": [
    {
     "data": {
      "text/plain": [
       "1.8274369241496748"
      ]
     },
     "execution_count": 56,
     "metadata": {},
     "output_type": "execute_result"
    }
   ],
   "source": [
    "guess_src.brightness.r"
   ]
  },
  {
   "cell_type": "code",
   "execution_count": 57,
   "id": "1adb51fa-912f-4c18-a767-599ffb96b3bd",
   "metadata": {},
   "outputs": [
    {
     "data": {
      "text/plain": [
       "1.8274369241496748"
      ]
     },
     "execution_count": 57,
     "metadata": {},
     "output_type": "execute_result"
    }
   ],
   "source": [
    "new_tractor.catalog[0].brightness.r"
   ]
  },
  {
   "cell_type": "code",
   "execution_count": null,
   "id": "130330fa-333d-4962-b6a5-bc07a95da2cc",
   "metadata": {},
   "outputs": [],
   "source": []
  },
  {
   "cell_type": "code",
   "execution_count": 34,
   "id": "845af959-fcce-46b0-b3bc-4164605b009c",
   "metadata": {},
   "outputs": [],
   "source": [
    "delta_r = []\n",
    "for i in range( len(Obiwan_LRG)):\n",
    "    delta_r.append( catalog[i].brightness.r - Obiwan_LRG['sim_rflux'][i] )\n",
    "delta_r = np.array( delta_r)  "
   ]
  },
  {
   "cell_type": "code",
   "execution_count": null,
   "id": "35b8e1f0-4ed5-42fd-9958-f5a675d441db",
   "metadata": {},
   "outputs": [],
   "source": []
  },
  {
   "cell_type": "code",
   "execution_count": 35,
   "id": "7357a036-3a82-4926-82eb-7344f86db89b",
   "metadata": {},
   "outputs": [
    {
     "data": {
      "text/plain": [
       "0.2366391863367641"
      ]
     },
     "execution_count": 35,
     "metadata": {},
     "output_type": "execute_result"
    }
   ],
   "source": [
    "np.percentile( delta_r, 84) -   np.percentile( delta_r, 16)"
   ]
  },
  {
   "cell_type": "code",
   "execution_count": null,
   "id": "4974dce8-3434-4026-92d4-825ced865dcc",
   "metadata": {},
   "outputs": [],
   "source": []
  },
  {
   "cell_type": "code",
   "execution_count": 36,
   "id": "e5a1d49f-fa8d-494a-805c-6f9cf67128ce",
   "metadata": {},
   "outputs": [
    {
     "data": {
      "text/plain": [
       "Text(0.5, 0, '$\\\\Delta flux\\\\, r$')"
      ]
     },
     "execution_count": 36,
     "metadata": {},
     "output_type": "execute_result"
    },
    {
     "data": {
      "image/png": "[encoded data removed]",
      "text/plain": [
       "<Figure size 640x480 with 1 Axes>"
      ]
     },
     "metadata": {},
     "output_type": "display_data"
    }
   ],
   "source": [
    "plt.hist( Obiwan_LRG['sim_rflux'] - Obiwan_LRG['flux_r'], label = 'Obiwan')\n",
    "plt.hist( delta_r, histtype = 'step', label = 'Fast SSI' )\n",
    "plt.legend()\n",
    "plt.xlabel(r'$\\Delta flux\\, r$')"
   ]
  },
  {
   "cell_type": "code",
   "execution_count": null,
   "id": "71fbefa6-b631-406f-905f-e3f7c795644f",
   "metadata": {},
   "outputs": [],
   "source": []
  },
  {
   "cell_type": "code",
   "execution_count": null,
   "id": "755591f2-7587-4057-85ba-2644ac78d72e",
   "metadata": {},
   "outputs": [],
   "source": []
  },
  {
   "cell_type": "code",
   "execution_count": null,
   "id": "d5f847c2-b921-42d9-9901-9f202d5b4780",
   "metadata": {},
   "outputs": [],
   "source": []
  }
 ],
 "metadata": {
  "kernelspec": {
   "display_name": "Dustin Perlmutter Conda",
   "language": "python",
   "name": "tractor"
  },
  "language_info": {
   "codemirror_mode": {
    "name": "ipython",
    "version": 3
   },
   "file_extension": ".py",
   "mimetype": "text/x-python",
   "name": "python",
   "nbconvert_exporter": "python",
   "pygments_lexer": "ipython3",
   "version": "3.10.8"
  }
 },
 "nbformat": 4,
 "nbformat_minor": 5
}
