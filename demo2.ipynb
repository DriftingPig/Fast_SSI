{
 "cells": [
  {
   "cell_type": "markdown",
   "id": "42e1c021-8cce-4c44-a696-2565621b1edb",
   "metadata": {},
   "source": [
    "In demo1, the processing time is longer than I expected. In this new demo, I start directly on resampled images for each CCD, and ignor the scale different between the original PSF and resampled PSF. \n",
    "\n",
    "I check one psacle = 1.0014158215291384, so I think this is negligible \n",
    "\n",
    "Then the stamp sources should be able to have a Null WCS, with PSF directly taken from the psfex file\n",
    "\n",
    "I check how fast the code runs with this procedure"
   ]
  },
  {
   "cell_type": "code",
   "execution_count": 1,
   "id": "a4e81f31-7cba-4774-ae02-55c3cf6e46c6",
   "metadata": {},
   "outputs": [],
   "source": [
    "%load_ext autoreload\n",
    "%autoreload 2\n",
    "%reload_ext autoreload\n",
    "    \n",
    "import sys\n",
    "sys.path.append(\".\")\n",
    "\n",
    "from FastObiwan import * \n",
    "import fitsio"
   ]
  },
  {
   "cell_type": "code",
   "execution_count": 2,
   "id": "2fb40111-1241-483e-88b6-348588f098ee",
   "metadata": {},
   "outputs": [],
   "source": [
    "brickname = '2383p305'\n",
    "\n",
    "Obiwan_LRG = fitsio.read(\"/global/cfs/cdirs/desi/survey/catalogs/image_simulations/LRG/NGC/Obiwan_LRGs.fits\", \\\n",
    "                         columns = [\"brickname\", \"sim_gflux\", \"sim_rflux\", \"sim_zflux\", \\\n",
    "                                    \"sim_w1\", \"mw_transmission_w1\", \"sim_rhalf\", \"sim_e1\", \"sim_e2\",\"sim_sersic_n\",\\\n",
    "                                    'nobs_g', 'nobs_r', 'nobs_z', 'psfdepth_g', 'psfdepth_r', 'psfdepth_z','ra','dec', 'flux_r', 'flux_g', 'flux_z'])\n",
    "Obiwan_LRG = Obiwan_LRG[Obiwan_LRG['brickname'] == brickname]\n",
    "T = fits_table(Obiwan_LRG)\n",
    "T.writeto(\"testbrick_2383p305.fits\")"
   ]
  },
  {
   "cell_type": "code",
   "execution_count": 3,
   "id": "506c6926-79b7-41c7-8004-6b6c48480ae8",
   "metadata": {},
   "outputs": [],
   "source": [
    "Obiwan_LRG = fitsio.read( \"testbrick_2383p305.fits\" )"
   ]
  },
  {
   "cell_type": "code",
   "execution_count": 4,
   "id": "d3ef1f84-4452-45f3-b71e-e124a6ca24e6",
   "metadata": {},
   "outputs": [],
   "source": [
    "Obiwan_Fast = LegacysurveyCCDList(brickname)\n",
    "Obiwan_Fast.read_sim_gal( Obiwan_LRG ) "
   ]
  },
  {
   "cell_type": "code",
   "execution_count": 5,
   "id": "a78eac24-e141-4abd-ab75-e60df83a369a",
   "metadata": {},
   "outputs": [
    {
     "name": "stdout",
     "output_type": "stream",
     "text": [
      "0\n",
      "1\n",
      "2\n",
      "3\n",
      "4\n",
      "5\n",
      "6\n",
      "7\n",
      "8\n",
      "9\n",
      "10\n",
      "11\n",
      "12\n",
      "13\n",
      "14\n",
      "15\n",
      "16\n",
      "17\n",
      "18\n",
      "19\n",
      "20\n",
      "21\n",
      "22\n",
      "23\n",
      "24\n",
      "25\n",
      "26\n",
      "27\n",
      "28\n",
      "29\n",
      "30\n",
      "31\n",
      "32\n",
      "33\n",
      "34\n",
      "35\n",
      "36\n",
      "37\n",
      "38\n",
      "39\n",
      "40\n",
      "41\n",
      "42\n",
      "43\n",
      "44\n",
      "45\n",
      "46\n",
      "47\n",
      "48\n",
      "49\n",
      "50\n",
      "51\n",
      "52\n",
      "53\n",
      "54\n",
      "55\n",
      "56\n",
      "57\n",
      "58\n",
      "59\n",
      "60\n",
      "61\n",
      "62\n",
      "63\n",
      "64\n",
      "65\n",
      "66\n",
      "67\n",
      "68\n",
      "69\n",
      "70\n",
      "71\n",
      "72\n",
      "73\n",
      "74\n",
      "75\n",
      "76\n",
      "77\n",
      "78\n",
      "79\n",
      "80\n",
      "81\n",
      "82\n",
      "83\n",
      "84\n",
      "85\n",
      "86\n",
      "87\n",
      "88\n",
      "89\n",
      "90\n",
      "91\n",
      "92\n",
      "93\n",
      "Elapsed time: 6.67 minutes\n"
     ]
    }
   ],
   "source": [
    "Obiwan_Fast = LegacysurveyCCDList(brickname)\n",
    "Obiwan_Fast.read_sim_gal( Obiwan_LRG ) \n",
    "\n",
    "catalog = []\n",
    "\n",
    "import time\n",
    "start_time = time.time()\n",
    "L_sim = len(Obiwan_Fast.ra)\n",
    "\n",
    "for i in range(L_sim):\n",
    "    print(i)\n",
    "    Obiwan_Fast.get_source(i, position = 'pixel')\n",
    "\n",
    "    L_ccd = len(Obiwan_Fast.ccd_list)\n",
    "    W,H = 31,31\n",
    "    \n",
    "    tims = []\n",
    "    for j in range( L_ccd ): \n",
    "        \n",
    "        Obiwan_Fast.init_one_ccd(j)\n",
    "        flag, xx, yy = Obiwan_Fast.raw_twcs.radec2pixelxy( Obiwan_Fast.src_ra, Obiwan_Fast.src_dec )\n",
    "        if xx<10 or xx>=Obiwan_Fast.ccd_width-10 or yy<10 or yy>=Obiwan_Fast.ccd_height-10:\n",
    "            continue\n",
    "        subpsf = Obiwan_Fast.raw_psf.constantPsfAt( xx-1, yy-1)\n",
    "        photocal=LinearPhotoCal(1, band = Obiwan_Fast.filter)\n",
    "        #print( Obiwan_Fast.filter)\n",
    "        tim = Image( data = np.zeros((H,W)), invvar = np.ones((H,W)), psf = subpsf, wcs=NullWCS(), photocal = photocal)\n",
    "        \n",
    "        tractor_i = Tractor([tim], [Obiwan_Fast.source_i])\n",
    "        clean_mod0 = tractor_i.getModelImage(0)\n",
    "        \n",
    "        final_data = clean_mod0+np.random.normal(size=clean_mod0.shape ) * Obiwan_Fast.sig1\n",
    "\n",
    "        noise_stamp = clean_mod0/Obiwan_Fast.nano2e\n",
    "        noise_stamp[np.where( noise_stamp < 0)] = 0\n",
    "        assert( np.all(noise_stamp) >=0 )\n",
    "        noise_sq_tot = np.ones((H,W))*Obiwan_Fast.sig1**2+noise_stamp\n",
    "        final_invvar = 1./noise_sq_tot\n",
    "        tim.data = final_data\n",
    "        tim.setInvvar( final_invvar )\n",
    "        #tim = Image( data = final_data, invvar = final_invvar, psf = subpsf, wcs=NullWCS(), photocal = photocal)\n",
    "        \n",
    "        tims.append(tim)\n",
    "\n",
    "    guess_src = Obiwan_Fast.source_i.copy()\n",
    "    guess_src.brightness.g = Obiwan_Fast.source_i.brightness.g*(1+np.random.normal()*0.05)\n",
    "    guess_src.brightness.r = Obiwan_Fast.source_i.brightness.r*(1+np.random.normal()*0.05)\n",
    "    guess_src.brightness.z = Obiwan_Fast.source_i.brightness.z*(1+np.random.normal()*0.05)\n",
    "    if Obiwan_Fast.source_i.getSourceType() == 'SersicGalaxy':\n",
    "        if Obiwan_Fast.source_i.sersicindex.val < 0.3:\n",
    "            guess_src.sersicindex = LegacySersicIndex(0.3)\n",
    "        if Obiwan_Fast.source_i.sersicindex.val > 5.3:\n",
    "            guess_src.sersicindex = LegacySersicIndex(5.3)\n",
    "    new_tractor = Tractor(tims, [guess_src])\n",
    "    \n",
    "    for i in range(50):\n",
    "        dlnp,X,alpha = new_tractor.optimize()\n",
    "        #print( 'dlnp', dlnp )\n",
    "        if dlnp < 1e-5:\n",
    "            break\n",
    "    catalog.append(new_tractor.catalog[0])\n",
    "\n",
    "end_time = time.time()\n",
    "elapsed_time = end_time - start_time\n",
    "\n",
    "# Convert to minutes\n",
    "elapsed_minutes = elapsed_time / 60\n",
    "print(f\"Elapsed time: {elapsed_minutes:.2f} minutes\")"
   ]
  },
  {
   "cell_type": "code",
   "execution_count": 174,
   "id": "9fde19a3-35d5-4c8e-9cc1-327220de1984",
   "metadata": {},
   "outputs": [
    {
     "data": {
      "text/plain": [
       "0.7145170078628871"
      ]
     },
     "execution_count": 174,
     "metadata": {},
     "output_type": "execute_result"
    }
   ],
   "source": [
    "new_tractor.catalog[0].brightness.r"
   ]
  },
  {
   "cell_type": "code",
   "execution_count": 175,
   "id": "c6f1c9e1-d530-45b6-8bac-da1e76aa367a",
   "metadata": {},
   "outputs": [
    {
     "data": {
      "text/plain": [
       "0.6787199"
      ]
     },
     "execution_count": 175,
     "metadata": {},
     "output_type": "execute_result"
    }
   ],
   "source": [
    "Obiwan_Fast.source_i.brightness.r"
   ]
  },
  {
   "cell_type": "code",
   "execution_count": 179,
   "id": "845af959-fcce-46b0-b3bc-4164605b009c",
   "metadata": {},
   "outputs": [],
   "source": [
    "delta_r = []\n",
    "for i in range( len(Obiwan_LRG)):\n",
    "    delta_r.append( catalog[i].brightness.r - Obiwan_LRG['sim_rflux'][i] )\n",
    "delta_r = np.array( delta_r)  "
   ]
  },
  {
   "cell_type": "code",
   "execution_count": null,
   "id": "35b8e1f0-4ed5-42fd-9958-f5a675d441db",
   "metadata": {},
   "outputs": [],
   "source": []
  },
  {
   "cell_type": "code",
   "execution_count": 180,
   "id": "7357a036-3a82-4926-82eb-7344f86db89b",
   "metadata": {},
   "outputs": [
    {
     "data": {
      "text/plain": [
       "0.10666592752318806"
      ]
     },
     "execution_count": 180,
     "metadata": {},
     "output_type": "execute_result"
    }
   ],
   "source": [
    "np.percentile( delta_r, 84) -   np.percentile( delta_r, 16)"
   ]
  },
  {
   "cell_type": "code",
   "execution_count": null,
   "id": "4974dce8-3434-4026-92d4-825ced865dcc",
   "metadata": {},
   "outputs": [],
   "source": []
  },
  {
   "cell_type": "code",
   "execution_count": 181,
   "id": "e5a1d49f-fa8d-494a-805c-6f9cf67128ce",
   "metadata": {},
   "outputs": [
    {
     "data": {
      "text/plain": [
       "Text(0.5, 0, '$\\\\Delta flux\\\\, r$')"
      ]
     },
     "execution_count": 181,
     "metadata": {},
     "output_type": "execute_result"
    },
    {
     "data": {
      "image/png": "[encoded data removed]",
      "text/plain": [
       "<Figure size 640x480 with 1 Axes>"
      ]
     },
     "metadata": {},
     "output_type": "display_data"
    }
   ],
   "source": [
    "plt.hist( Obiwan_LRG['sim_rflux'] - Obiwan_LRG['flux_r'], label = 'Obiwan')\n",
    "plt.hist( delta_r, histtype = 'step', label = 'Fast SSI' )\n",
    "plt.legend()\n",
    "plt.xlabel(r'$\\Delta flux\\, r$')"
   ]
  },
  {
   "cell_type": "code",
   "execution_count": null,
   "id": "71fbefa6-b631-406f-905f-e3f7c795644f",
   "metadata": {},
   "outputs": [],
   "source": []
  },
  {
   "cell_type": "code",
   "execution_count": null,
   "id": "755591f2-7587-4057-85ba-2644ac78d72e",
   "metadata": {},
   "outputs": [],
   "source": []
  },
  {
   "cell_type": "code",
   "execution_count": null,
   "id": "d5f847c2-b921-42d9-9901-9f202d5b4780",
   "metadata": {},
   "outputs": [],
   "source": []
  }
 ],
 "metadata": {
  "kernelspec": {
   "display_name": "Dustin Perlmutter Conda",
   "language": "python",
   "name": "tractor"
  },
  "language_info": {
   "codemirror_mode": {
    "name": "ipython",
    "version": 3
   },
   "file_extension": ".py",
   "mimetype": "text/x-python",
   "name": "python",
   "nbconvert_exporter": "python",
   "pygments_lexer": "ipython3",
   "version": "3.10.8"
  }
 },
 "nbformat": 4,
 "nbformat_minor": 5
}
